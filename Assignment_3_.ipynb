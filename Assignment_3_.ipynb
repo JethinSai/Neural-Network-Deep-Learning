{
  "nbformat": 4,
  "nbformat_minor": 0,
  "metadata": {
    "colab": {
      "provenance": []
    },
    "kernelspec": {
      "name": "python3",
      "display_name": "Python 3"
    },
    "language_info": {
      "name": "python"
    }
  },
  "cells": [
    {
      "cell_type": "code",
      "execution_count": 1,
      "metadata": {
        "colab": {
          "base_uri": "https://localhost:8080/"
        },
        "id": "NfxsxDvsWlZs",
        "outputId": "2c4e212b-0c43-480b-bf2b-cb4082bf8e33"
      },
      "outputs": [
        {
          "output_type": "stream",
          "name": "stdout",
          "text": [
            "Average Salary: 65000.0\n",
            "Total Employees: 3\n"
          ]
        }
      ],
      "source": [
        "class Employee:\n",
        "    # Class variable to count number of employees\n",
        "    employee_count = 0\n",
        "    total_salary = 0\n",
        "\n",
        "    def __init__(self, name, family, salary, department):\n",
        "        self.name = name\n",
        "        self.family = family\n",
        "        self.salary = salary\n",
        "        self.department = department\n",
        "        Employee.employee_count += 1\n",
        "        Employee.total_salary += salary\n",
        "\n",
        "    @classmethod\n",
        "    def average_salary(cls):\n",
        "        if cls.employee_count > 0:\n",
        "            return cls.total_salary / cls.employee_count\n",
        "        else:\n",
        "            return 0\n",
        "\n",
        "class FulltimeEmployee(Employee):\n",
        "    # Inherits everything from Employee\n",
        "    pass\n",
        "\n",
        "# Creating an instance of Employee\n",
        "emp1 = Employee(\"John\", \"Doe\", 60000, \"HR\")\n",
        "emp2 = Employee(\"Jane\", \"Doe\", 65000, \"Finance\")\n",
        "\n",
        "# Creating an instance of FulltimeEmployee\n",
        "fte1 = FulltimeEmployee(\"Mike\", \"Smith\", 70000, \"Engineering\")\n",
        "\n",
        "# Displaying average salary\n",
        "print(f\"Average Salary: {Employee.average_salary()}\")\n",
        "\n",
        "# Output total number of employees\n",
        "print(f\"Total Employees: {Employee.employee_count}\")\n"
      ]
    },
    {
      "cell_type": "code",
      "source": [
        "import numpy as np\n",
        "\n",
        "# Create a random vector of size 20 with values in the range 1-20\n",
        "random_vector = np.random.uniform(low=1.0, high=20.0, size=20)\n",
        "\n",
        "# Reshape the array to 4x5\n",
        "reshaped_array = random_vector.reshape(4, 5)\n",
        "\n",
        "# Replace the max in each row by 0 without using a for loop\n",
        "reshaped_array[np.arange(4), reshaped_array.argmax(axis=1)] = 0\n",
        "\n",
        "print(reshaped_array)\n"
      ],
      "metadata": {
        "colab": {
          "base_uri": "https://localhost:8080/"
        },
        "id": "nyIEKZloX3X0",
        "outputId": "d267e954-da48-4b72-e4e1-304bfa5e1a37"
      },
      "execution_count": 2,
      "outputs": [
        {
          "output_type": "stream",
          "name": "stdout",
          "text": [
            "[[ 9.60332459 11.5305395   7.50206185  0.          5.94108219]\n",
            " [ 0.         17.24680414 11.40562925 17.53918774 12.73032362]\n",
            " [ 3.28531225  0.         16.22616182  4.03618262  1.98383304]\n",
            " [ 0.         14.08779011  4.48299683  1.90333557  8.46098986]]\n"
          ]
        }
      ]
    },
    {
      "cell_type": "code",
      "source": [],
      "metadata": {
        "id": "CP49pRw5ZKpE"
      },
      "execution_count": null,
      "outputs": []
    }
  ]
}
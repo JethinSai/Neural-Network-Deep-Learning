{
  "nbformat": 4,
  "nbformat_minor": 0,
  "metadata": {
    "colab": {
      "provenance": []
    },
    "kernelspec": {
      "name": "python3",
      "display_name": "Python 3"
    },
    "language_info": {
      "name": "python"
    }
  },
  "cells": [
    {
      "cell_type": "code",
      "execution_count": 1,
      "metadata": {
        "colab": {
          "base_uri": "https://localhost:8080/"
        },
        "id": "rTgSDXb84fKt",
        "outputId": "268beb1b-8b6e-4029-99e4-a1d81e8c8dce"
      },
      "outputs": [
        {
          "output_type": "stream",
          "name": "stdout",
          "text": [
            "Enter a string: PYTHON\n",
            "HTP\n"
          ]
        }
      ],
      "source": [
        "# Input a string as a list of characters\n",
        "input_string = list(input(\"Enter a string: \"))\n",
        "\n",
        "# Delete at least 2 characters\n",
        "if len(input_string) >= 2:\n",
        "    del input_string[1]\n",
        "    del input_string[-2:]\n",
        "\n",
        "# Reverse the resultant string\n",
        "result_string = input_string[::-1]\n",
        "\n",
        "# Print the result\n",
        "print(\"\".join(result_string))\n"
      ]
    },
    {
      "cell_type": "code",
      "source": [
        "# Input a sentence\n",
        "sentence = input(\"Enter a sentence: \")\n",
        "\n",
        "# Replace 'python' with 'pythons'\n",
        "new_sentence = sentence.replace('python', 'pythons')\n",
        "\n",
        "# Print the result\n",
        "print(new_sentence)"
      ],
      "metadata": {
        "colab": {
          "base_uri": "https://localhost:8080/"
        },
        "id": "_3E4cMfOh1Km",
        "outputId": "9fc1758e-2aca-4c19-e852-0ec320016731"
      },
      "execution_count": 3,
      "outputs": [
        {
          "output_type": "stream",
          "name": "stdout",
          "text": [
            "Enter a sentence: I love playing with pythons\n",
            "I love playing with pythonss\n"
          ]
        }
      ]
    },
    {
      "cell_type": "code",
      "source": [
        "# Input the class score\n",
        "score = float(input(\"Enter the class score: \"))\n",
        "\n",
        "# Determine the letter grade based on the grading scheme\n",
        "if 90 <= score <= 100:\n",
        "    grade = 'A'\n",
        "elif 80 <= score < 90:\n",
        "    grade = 'B'\n",
        "elif 70 <= score < 80:\n",
        "    grade = 'C'\n",
        "elif 60 <= score < 70:\n",
        "    grade = 'D'\n",
        "else:\n",
        "    grade = 'F'\n",
        "\n",
        "# Print the letter grade\n",
        "print(\"Letter Grade:\", grade)\n"
      ],
      "metadata": {
        "colab": {
          "base_uri": "https://localhost:8080/"
        },
        "id": "Gzpgdjfdh_b0",
        "outputId": "40b9013b-d1eb-4e09-8cc2-b27291149ea0"
      },
      "execution_count": 4,
      "outputs": [
        {
          "output_type": "stream",
          "name": "stdout",
          "text": [
            "Enter the class score: 99\n",
            "Letter Grade: A\n"
          ]
        }
      ]
    }
  ]
}
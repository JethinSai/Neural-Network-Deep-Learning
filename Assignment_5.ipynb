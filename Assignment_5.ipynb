{
  "nbformat": 4,
  "nbformat_minor": 0,
  "metadata": {
    "colab": {
      "provenance": []
    },
    "kernelspec": {
      "name": "python3",
      "display_name": "Python 3"
    },
    "language_info": {
      "name": "python"
    }
  },
  "cells": [
    {
      "cell_type": "code",
      "execution_count": 7,
      "metadata": {
        "colab": {
          "base_uri": "https://localhost:8080/"
        },
        "id": "64k_2Pa-6uqK",
        "outputId": "2f03ab7a-b26f-4cbb-a418-91d83678f674"
      },
      "outputs": [
        {
          "output_type": "stream",
          "name": "stdout",
          "text": [
            "Model Accuracy: 0.5581395348837209\n",
            "              precision    recall  f1-score   support\n",
            "\n",
            "           1       0.41      0.64      0.50        11\n",
            "           2       0.43      0.21      0.29        14\n",
            "           3       0.40      0.67      0.50         3\n",
            "           5       0.50      0.25      0.33         4\n",
            "           6       1.00      1.00      1.00         3\n",
            "           7       0.89      1.00      0.94         8\n",
            "\n",
            "    accuracy                           0.56        43\n",
            "   macro avg       0.60      0.63      0.59        43\n",
            "weighted avg       0.55      0.56      0.53        43\n",
            "\n"
          ]
        }
      ],
      "source": [
        "# Import necessary libraries\n",
        "import pandas as pd\n",
        "from sklearn.model_selection import train_test_split\n",
        "from sklearn.naive_bayes import GaussianNB\n",
        "from sklearn.metrics import classification_report\n",
        "\n",
        "# Load the glass dataset\n",
        "glass_df = pd.read_csv('/content/glass.csv')\n",
        "\n",
        "# Separate features and target variable\n",
        "X = glass_df.drop('Type', axis=1)\n",
        "y = glass_df['Type']\n",
        "\n",
        "# Split the dataset into training and testing sets\n",
        "X_train, X_test, y_train, y_test = train_test_split(X, y, test_size=0.2, random_state=42)\n",
        "\n",
        "# Initialize the Naïve Bayes classifier\n",
        "gnb = GaussianNB()\n",
        "\n",
        "# Train the classifier on the training set\n",
        "gnb.fit(X_train, y_train)\n",
        "\n",
        "# Predict on the testing set\n",
        "y_pred = gnb.predict(X_test)\n",
        "\n",
        "# Evaluate the model\n",
        "accuracy = gnb.score(X_test, y_test)\n",
        "print(f\"Model Accuracy: {accuracy}\")\n",
        "\n",
        "# Generate and print classification report\n",
        "report = classification_report(y_test, y_pred)\n",
        "print(report)\n"
      ]
    },
    {
      "cell_type": "code",
      "source": [
        "from sklearn.model_selection import train_test_split\n",
        "from sklearn.svm import LinearSVC\n",
        "from sklearn.metrics import classification_report, accuracy_score\n",
        "\n",
        "# Assuming glass_df is already loaded with the glass dataset\n",
        "\n",
        "# Split the data into features and target variable\n",
        "X = glass_df.drop('Type', axis=1)\n",
        "y = glass_df['Type']\n",
        "\n",
        "# Split the dataset into training and testing parts\n",
        "X_train, X_test, y_train, y_test = train_test_split(X, y, test_size=0.2, random_state=42)\n",
        "\n",
        "# Initialize and train the Linear SVM model\n",
        "linear_svc = LinearSVC(random_state=42, max_iter=10000)\n",
        "linear_svc.fit(X_train, y_train)\n",
        "\n",
        "# Predict on the testing set\n",
        "y_pred = linear_svc.predict(X_test)\n",
        "\n",
        "# Evaluate the model\n",
        "accuracy = accuracy_score(y_test, y_pred)\n",
        "print(f\"Accuracy: {accuracy}\")\n",
        "\n",
        "# Print the classification report for a detailed evaluation\n",
        "report = classification_report(y_test, y_pred)\n",
        "print(report)\n"
      ],
      "metadata": {
        "colab": {
          "base_uri": "https://localhost:8080/"
        },
        "id": "yPutBDD8_RML",
        "outputId": "99cab314-5312-4cb2-a08b-44cb533f57de"
      },
      "execution_count": 8,
      "outputs": [
        {
          "output_type": "stream",
          "name": "stdout",
          "text": [
            "Accuracy: 0.5348837209302325\n",
            "              precision    recall  f1-score   support\n",
            "\n",
            "           1       0.67      0.18      0.29        11\n",
            "           2       0.44      1.00      0.61        14\n",
            "           3       0.00      0.00      0.00         3\n",
            "           5       1.00      0.25      0.40         4\n",
            "           6       0.00      0.00      0.00         3\n",
            "           7       0.86      0.75      0.80         8\n",
            "\n",
            "    accuracy                           0.53        43\n",
            "   macro avg       0.49      0.36      0.35        43\n",
            "weighted avg       0.57      0.53      0.46        43\n",
            "\n"
          ]
        },
        {
          "output_type": "stream",
          "name": "stderr",
          "text": [
            "/usr/local/lib/python3.10/dist-packages/sklearn/svm/_base.py:1244: ConvergenceWarning: Liblinear failed to converge, increase the number of iterations.\n",
            "  warnings.warn(\n",
            "/usr/local/lib/python3.10/dist-packages/sklearn/metrics/_classification.py:1344: UndefinedMetricWarning: Precision and F-score are ill-defined and being set to 0.0 in labels with no predicted samples. Use `zero_division` parameter to control this behavior.\n",
            "  _warn_prf(average, modifier, msg_start, len(result))\n",
            "/usr/local/lib/python3.10/dist-packages/sklearn/metrics/_classification.py:1344: UndefinedMetricWarning: Precision and F-score are ill-defined and being set to 0.0 in labels with no predicted samples. Use `zero_division` parameter to control this behavior.\n",
            "  _warn_prf(average, modifier, msg_start, len(result))\n",
            "/usr/local/lib/python3.10/dist-packages/sklearn/metrics/_classification.py:1344: UndefinedMetricWarning: Precision and F-score are ill-defined and being set to 0.0 in labels with no predicted samples. Use `zero_division` parameter to control this behavior.\n",
            "  _warn_prf(average, modifier, msg_start, len(result))\n"
          ]
        }
      ]
    }
  ]
}